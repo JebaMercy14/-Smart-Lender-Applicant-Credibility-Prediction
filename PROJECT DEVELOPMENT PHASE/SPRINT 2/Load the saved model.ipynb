{
 "cells": [
  {
   "cell_type": "markdown",
   "id": "e17caa04",
   "metadata": {},
   "source": [
    "# Load the saved model"
   ]
  },
  {
   "cell_type": "code",
   "execution_count": 1,
   "id": "28e163f5",
   "metadata": {},
   "outputs": [],
   "source": [
    "import pickle"
   ]
  },
  {
   "cell_type": "code",
   "execution_count": 2,
   "id": "c97e130d",
   "metadata": {},
   "outputs": [],
   "source": [
    "filename = 'model.pkl'\n",
    "loaded_xg = pickle.load(open('model.pkl','rb'))"
   ]
  },
  {
   "cell_type": "code",
   "execution_count": 14,
   "id": "2aadbc7a",
   "metadata": {},
   "outputs": [
    {
     "name": "stdout",
     "output_type": "stream",
     "text": [
      "[1]\n"
     ]
    }
   ],
   "source": [
    "pred_result = loaded_xg.predict([[10, 41, 60, 221, 70, 81, 21, 19, 35, 25, 84, 90, ]])\n",
    "print(pred_result)"
   ]
  },
  {
   "cell_type": "code",
   "execution_count": null,
   "id": "b1df0001",
   "metadata": {},
   "outputs": [],
   "source": []
  },
  {
   "cell_type": "code",
   "execution_count": null,
   "id": "8b93ca33",
   "metadata": {},
   "outputs": [],
   "source": []
  }
 ],
 "metadata": {
  "kernelspec": {
   "display_name": "Python 3 (ipykernel)",
   "language": "python",
   "name": "python3"
  },
  "language_info": {
   "codemirror_mode": {
    "name": "ipython",
    "version": 3
   },
   "file_extension": ".py",
   "mimetype": "text/x-python",
   "name": "python",
   "nbconvert_exporter": "python",
   "pygments_lexer": "ipython3",
   "version": "3.9.7"
  }
 },
 "nbformat": 4,
 "nbformat_minor": 5
}
